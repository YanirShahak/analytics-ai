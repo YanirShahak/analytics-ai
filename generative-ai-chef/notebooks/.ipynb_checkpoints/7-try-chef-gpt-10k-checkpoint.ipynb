{
 "cells": [
  {
   "cell_type": "markdown",
   "id": "03c5d9dd",
   "metadata": {},
   "source": [
    "# Let's try the ChefGPT\n",
    "\n",
    "Let's try our newly trained model and see how well it performs"
   ]
  },
  {
   "cell_type": "code",
   "execution_count": 1,
   "id": "71f2bb60",
   "metadata": {},
   "outputs": [],
   "source": [
    "from transformers import T5ForConditionalGeneration, T5Tokenizer\n",
    "\n",
    "model = T5ForConditionalGeneration.from_pretrained(\"fine_tuned_t5_recipes_base_10k_v1\",device_map=\"auto\")\n",
    "tokenizer = T5Tokenizer.from_pretrained(\"fine_tuned_t5_recipes_base_10k_v1\")"
   ]
  },
  {
   "cell_type": "code",
   "execution_count": 2,
   "id": "ec8a14b0",
   "metadata": {},
   "outputs": [],
   "source": [
    "#\n",
    "generation_kwargs_v2 = {\n",
    "    \"max_length\": 512,\n",
    "    \"no_repeat_ngram_size\": 3,\n",
    "    \"do_sample\": True,\n",
    "    \"top_k\": 60,\n",
    "#     \"temperature\": 0.7,\n",
    "    \"top_p\": 0.95,\n",
    "    \"num_beams\": 5,\n",
    "    \"num_return_sequences\": 3,\n",
    "    \"early_stopping\": True    \n",
    "}\n",
    "\n",
    "#\n",
    "generation_kwargs_v3 = {\n",
    "    \"max_length\": 512,\n",
    "    \"do_sample\": True,\n",
    "    \"top_k\": 50,\n",
    "    \"top_p\": 0.95,\n",
    "    \"num_return_sequences\": 3\n",
    "}\n",
    "\n",
    "generation_kwargs_v4 = {\n",
    "    \"max_length\": 512,\n",
    "    \"min_length\": 64,\n",
    "    \"no_repeat_ngram_size\": 3,\n",
    "    \"do_sample\": True,\n",
    "    \"top_k\": 60,\n",
    "    \"top_p\": 0.95\n",
    "}\n",
    "\n",
    "def generate_recipe_v1(prompt):\n",
    "    input_text = f\"generate recipe: {prompt}\"\n",
    "    input_ids = tokenizer.encode(input_text, return_tensors=\"pt\")\n",
    "    input_ids = input_ids.to('cuda')\n",
    "    output_ids = model.generate(input_ids, max_length=512, num_return_sequences=1)\n",
    "    output_text = tokenizer.decode(output_ids[0], skip_special_tokens=True)    \n",
    "    return output_text\n",
    "\n",
    "def generate_recipe_v2(prompt):\n",
    "    input_text = f\"generate recipe: {prompt}\"\n",
    "    input_ids = tokenizer(input_text, return_tensors=\"pt\", padding='max_length', truncation=True, max_length=512).input_ids\n",
    "    output_ids = model.generate(input_ids, **generation_kwargs_v2)\n",
    "    output_text = tokenizer.decode(output_ids[0], skip_special_tokens=True)\n",
    "    return output_text\n",
    "\n",
    "def generate_recipe_v3(prompt):\n",
    "    input_text = f\"generate recipe: {prompt}\"\n",
    "    input_ids = tokenizer(input_text, return_tensors=\"pt\", padding='max_length', truncation=True, max_length=512).input_ids\n",
    "    output_ids = model.generate(input_ids, **generation_kwargs_v3)\n",
    "    output_text = tokenizer.decode(output_ids[0], skip_special_tokens=True)\n",
    "    return output_text\n",
    "\n",
    "def generate_recipe_v4(prompt):\n",
    "    input_text = f\"generate recipe: {prompt}\"\n",
    "    inputs = tokenizer(\n",
    "        input_text, \n",
    "        max_length=512, \n",
    "        padding=\"max_length\", \n",
    "        truncation=True, \n",
    "        return_tensors=\"pt\"\n",
    "    )\n",
    "\n",
    "    input_ids = inputs.input_ids\n",
    "    attention_mask = inputs.attention_mask\n",
    "\n",
    "    output_ids = model.generate(\n",
    "        input_ids=input_ids, \n",
    "        attention_mask=attention_mask,\n",
    "        **generation_kwargs_v4\n",
    "    )\n",
    "    output_text = tokenizer.decode(output_ids[0], skip_special_tokens=True)\n",
    "    return output_text"
   ]
  },
  {
   "cell_type": "code",
   "execution_count": 3,
   "id": "f43d8deb",
   "metadata": {},
   "outputs": [
    {
     "name": "stderr",
     "output_type": "stream",
     "text": [
      "/home/datascience/conda/pytorch110_p38_gpu_v1/lib/python3.8/site-packages/transformers/generation/utils.py:1219: UserWarning: You have modified the pretrained model configuration to control generation. This is a deprecated strategy to control generation and will be removed soon, in a future version. Please use a generation configuration file (see https://huggingface.co/docs/transformers/main_classes/text_generation)\n",
      "  warnings.warn(\n"
     ]
    },
    {
     "name": "stdout",
     "output_type": "stream",
     "text": [
      "title: Chicken Soup ingredients: 1 lb. chicken, 1 c. peas, 1 c. carrots, 1 can cream of chicken soup, 1 can cream of celery soup, 1 can chicken broth, 1 c. milk, 1 c. Bisquick mix directions: Cook chicken in boiling water until tender. Drain. Add peas carrots cream of chicken soup cream of celery soup chicken broth milk Bisquick mix and mix well. Add chicken broth and milk. Stir well. Add Bisquick mix and mix well.\n"
     ]
    }
   ],
   "source": [
    "# food_items = \"butter, mushrooms, garlic, zucchini, onion, eggs, Ricotta cheese, shredded Monterey Jack, frozen spinach, dill weed, salt\"\n",
    "# food_items = \"chicken breasts, lime marinade, tomatoes, shredded cheese, tortilla chips\"\n",
    "#food_items = \"pie shell, eggs, butter, sugar, cocoa, flour, milk, vanilla\"\n",
    "# food_items = \"cooking oats, brown sugar, salad oil, eggs, salt, almond extract\"\n",
    "# food_items = \"cooking oat, brown sugar, salad oil, eggs, salt, almond extract\"\n",
    "# food_items = \"coconut, sugar, bran cereal, pumpkin seeds, flour, rolled oats, milk\"\n",
    "# food_items = \"Salt, Pepper, FILLING, Olive Oil, Sausage, Fresh Spinach Leaves, Eggs, Egg Whites, Coconut Milk, Colby Cheese, Salt, Pepper, Hot Sauce, Green Onions\"\n",
    "food_items = \"chicken, peas, carrots, cream of chicken soup, cream of celery soup, chicken broth, milk, Bisquick mix\"\n",
    "\n",
    "recipe = generate_recipe_v1(food_items)\n",
    "# s = recipe.replace(\"ingredients:\", \"\\n\\nIngredients:\").replace(\"directions:\", \"\\n\\nDirections:\")\n",
    "print(recipe)\n",
    "# print(s)"
   ]
  },
  {
   "cell_type": "code",
   "execution_count": null,
   "id": "1902e97c",
   "metadata": {},
   "outputs": [],
   "source": []
  },
  {
   "cell_type": "code",
   "execution_count": 5,
   "id": "b431d09b",
   "metadata": {},
   "outputs": [
    {
     "name": "stdout",
     "output_type": "stream",
     "text": [
      "title: Chicken Casserole ingredients: 1 lb. chicken, 1 c. chopped peas, 2 carrots, chopped, 1 can cream of chicken soup, 2 cans cream of celery soup, 3 cans chicken broth, 1 cup milk, Bisquick mix directions: Preheat oven to 400u00b0F. In a large bowl combine chicken soup milk and milk. Mix well. Pour over chicken. Cover and refrigerate until ready to serve.\n"
     ]
    }
   ],
   "source": [
    "# very CPU intensive!\n",
    "recipe = generate_recipe_v2(food_items)\n",
    "# s = recipe.replace(\"ingredients:\", \"\\n\\nIngredients:\").replace(\"directions:\", \"\\n\\nDirections:\")\n",
    "print(recipe)\n",
    "# sprint(s)"
   ]
  },
  {
   "cell_type": "code",
   "execution_count": null,
   "id": "35b19713",
   "metadata": {},
   "outputs": [],
   "source": []
  },
  {
   "cell_type": "code",
   "execution_count": 4,
   "id": "997a80e2",
   "metadata": {},
   "outputs": [
    {
     "name": "stderr",
     "output_type": "stream",
     "text": [
      "/home/datascience/conda/pytorch110_p38_gpu_v1/lib/python3.8/site-packages/transformers/generation/utils.py:1405: UserWarning: You are calling .generate() with the `input_ids` being on a device type different than your model's device. `input_ids` is on cpu, whereas the model is on cuda. You may experience unexpected behaviors or slower generation. Please make sure that you have put `input_ids` to the correct device by calling for example input_ids = input_ids.to('cuda') before running `.generate()`.\n",
      "  warnings.warn(\n"
     ]
    },
    {
     "name": "stdout",
     "output_type": "stream",
     "text": [
      "title: Chicken Frozen \n",
      "\n",
      "Ingredients: 1 lb. chicken breasted breasted breasted breasted breast, 1 lb. peas, 4 carrots, 3 (6 oz.) cans cream of chicken soup, 2 cans cream of celery soup (with no fat, no fat, no fat), 1 (10 oz.) can chicken broth, 1 (10 oz.) can milk, 1/2 cup Bisquick mix \n",
      "\n",
      "Directions: For chicken and carrots reheat oven to 400u00b0F. Cook for about 15 minutes at 350u00b0F. Stir chicken cream of chicken soup soup juice of remaining sauce and the remaining oil over high heat stirring occasionally until the chicken is tender about 8 minutes. Combine broth milk milk Bisquick mix and chicken soup. Pour into an 8 x 8-inch pan and bake 30 minutes for 1 hour longer. Serves 7.\n"
     ]
    }
   ],
   "source": [
    "recipe = generate_recipe_v3(food_items)\n",
    "s = recipe.replace(\"ingredients:\", \"\\n\\nIngredients:\").replace(\"directions:\", \"\\n\\nDirections:\")\n",
    "print(s)"
   ]
  },
  {
   "cell_type": "code",
   "execution_count": null,
   "id": "3711ae1d",
   "metadata": {},
   "outputs": [],
   "source": []
  },
  {
   "cell_type": "code",
   "execution_count": 5,
   "id": "a41ef410",
   "metadata": {},
   "outputs": [
    {
     "name": "stdout",
     "output_type": "stream",
     "text": [
      "title: Chicken Breast Pot Pie \n",
      "\n",
      "Ingredients: 6 lbs boneless boneless chicken, peas, diced, 2 carrots, mashed, 2 cans cream of chicken soup, shredded, 1 can cream of celery soup, 1 chicken broth, 1 1/2 cups liquid, 2 cups evaporated milk, Bisquick mix \n",
      "\n",
      "Directions: Cook chicken in boiling water until tender about 10 minutes; drain well. Mix chicken pea potatoes carrot soup cream of mushroom soup and chicken broth. Add 2 cups water. Add Bisquicker mix to chicken. Cover and refrigerate 1 hour or until chicken is tender enough to bake overnight.\n"
     ]
    }
   ],
   "source": [
    "recipe = generate_recipe_v4(food_items)\n",
    "s = recipe.replace(\"ingredients:\", \"\\n\\nIngredients:\").replace(\"directions:\", \"\\n\\nDirections:\")\n",
    "# print(recipe)\n",
    "print(s)"
   ]
  },
  {
   "cell_type": "code",
   "execution_count": null,
   "id": "9a3ab045",
   "metadata": {},
   "outputs": [],
   "source": []
  },
  {
   "cell_type": "markdown",
   "id": "a23932cc",
   "metadata": {},
   "source": [
    "## Using Pipelines"
   ]
  },
  {
   "cell_type": "code",
   "execution_count": 8,
   "id": "bba0edb3",
   "metadata": {},
   "outputs": [],
   "source": [
    "from transformers import pipeline\n",
    "# from transformers import T5ForConditionalGeneration, T5Tokenizer\n",
    "\n",
    "# model = T5ForConditionalGeneration.from_pretrained(\"fine_tuned_t5_recipes_base_v3\")\n",
    "# tokenizer = T5Tokenizer.from_pretrained(\"fine_tuned_t5_recipes_base_v3\", model_max_len=512)\n",
    "\n",
    "# model = T5ForConditionalGeneration.from_pretrained(\"fine_tuned_t5_recipes_base_5K_v3\")\n",
    "# tokenizer = T5Tokenizer.from_pretrained(\"fine_tuned_t5_recipes_base_5K_v3\")\n",
    "\n",
    "# model = T5ForConditionalGeneration.from_pretrained(\"fine_tuned_t5_recipes_base_10K_v1\")\n",
    "# tokenizer = T5Tokenizer.from_pretrained(\"fine_tuned_t5_recipes_base_10K_v1\")\n",
    "\n",
    "generator = pipeline(model=model, tokenizer=tokenizer, task=\"text2text-generation\")"
   ]
  },
  {
   "cell_type": "code",
   "execution_count": 9,
   "id": "f6c0e5eb",
   "metadata": {},
   "outputs": [
    {
     "name": "stdout",
     "output_type": "stream",
     "text": [
      "recipe: Tossed chicken, peas, carrots, cream of chicken soup, cream of celery soup, chicken broth, milk, Bisquick mix, liquid stir together cream of chicken broth and milk, cream of cream of meat soup \n",
      "\n",
      "Ingredients: 1/2 cup chicken breast, 1/2 cup milk, 1/2 cup Bisquick mix. Sprinkle over chicken soup, salt, and pepper. Cover and bring to a boil. Bake for 40 minutes. Remove chicken from heat and place. Heat remaining cream of chicken soup into a 12-ounce plastic container. Cover and leave to cool for 30 minutes, and stir in water. Add milk and milk. Add salt and pepper. Top with pepper.\n"
     ]
    }
   ],
   "source": [
    "# food_items = 'cooking oats, brown sugar, salad oil, eggs, salt, almond extract'\n",
    "# food_items = 'ground beef, vinegar, sugar, chili powder, Worcestershire sauce, catsup, mustard, onion'\n",
    "# food_items = \"cooking oat, brown sugar, salad oil, eggs, salt, almond extract\"\n",
    "# food_items = \"coconut, sugar, bran cereal, pumpkin seeds, flour, rolled oats, milk\"\n",
    "# food_items = \"butter, mushrooms, garlic, zucchini, onion, eggs, Ricotta cheese, shredded Monterey Jack, frozen spinach, dill weed, salt\"\n",
    "# food_items = \"cooking oats, brown sugar, salad oil, eggs, salt, almond extract\"\n",
    "# food_items = \"Salt, Pepper, FILLING, Olive Oil, Sausage, Fresh Spinach Leaves, Eggs, Egg Whites, Coconut Milk, Colby Cheese, Salt, Pepper, Hot Sauce, Green Onions\"\n",
    "food_items = \"chicken, peas, carrots, cream of chicken soup, cream of celery soup, chicken broth, milk, Bisquick mix\"\n",
    "\n",
    "tokenizer_kwargs = {\n",
    "    \"max_length\": 512,\n",
    "    \"do_sample\": True,\n",
    "    \"top_k\": 60,\n",
    "    \"top_p\": 0.95,\n",
    "    \"num_return_sequences\": 2\n",
    "}\n",
    "\n",
    "response = generator(f\"generate recipe: {food_items}\", **tokenizer_kwargs)\n",
    "\n",
    "print(response[0]['generated_text'].replace(\"ingredients:\", \"\\n\\nIngredients:\").replace(\"directions:\", \"\\n\\nDirections:\"))"
   ]
  },
  {
   "cell_type": "code",
   "execution_count": null,
   "id": "6def7617",
   "metadata": {},
   "outputs": [],
   "source": []
  }
 ],
 "metadata": {
  "kernelspec": {
   "display_name": "Python [conda env:pytorch110_p38_gpu_v1]",
   "language": "python",
   "name": "conda-env-pytorch110_p38_gpu_v1-py"
  },
  "language_info": {
   "codemirror_mode": {
    "name": "ipython",
    "version": 3
   },
   "file_extension": ".py",
   "mimetype": "text/x-python",
   "name": "python",
   "nbconvert_exporter": "python",
   "pygments_lexer": "ipython3",
   "version": "3.8.13"
  }
 },
 "nbformat": 4,
 "nbformat_minor": 5
}
