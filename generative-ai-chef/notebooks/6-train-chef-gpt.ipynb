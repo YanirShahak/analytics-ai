{
 "cells": [
  {
   "cell_type": "markdown",
   "id": "e3741f3f",
   "metadata": {},
   "source": [
    "# Let's Train ChefGPT\n",
    "\n",
    "Let's fine tune our own ChefGPT model. "
   ]
  },
  {
   "cell_type": "markdown",
   "id": "d56b8cbd",
   "metadata": {},
   "source": [
    "## Let's Train"
   ]
  },
  {
   "cell_type": "code",
   "execution_count": 1,
   "id": "ddc40b0a",
   "metadata": {},
   "outputs": [],
   "source": [
    "from datasets import load_from_disk\n",
    "\n",
    "# worked well!\n",
    "# train_tokenized = load_from_disk('./tokenized_train_dataset_10k_v3')\n",
    "# val_tokenized = load_from_disk('./tokenized_test_dataset_10k_v3')\n",
    "\n",
    "train_tokenized = load_from_disk('./tokenized_train_dataset_10k_v4')\n",
    "val_tokenized = load_from_disk('./tokenized_test_dataset_10k_v4')"
   ]
  },
  {
   "cell_type": "code",
   "execution_count": 2,
   "id": "d9827f0d",
   "metadata": {},
   "outputs": [
    {
     "data": {
      "text/plain": [
       "(10000, 3)"
      ]
     },
     "execution_count": 2,
     "metadata": {},
     "output_type": "execute_result"
    }
   ],
   "source": [
    "train_tokenized.shape"
   ]
  },
  {
   "cell_type": "code",
   "execution_count": 3,
   "id": "bf6a1531",
   "metadata": {},
   "outputs": [
    {
     "data": {
      "text/plain": [
       "(2000, 3)"
      ]
     },
     "execution_count": 3,
     "metadata": {},
     "output_type": "execute_result"
    }
   ],
   "source": [
    "val_tokenized.shape"
   ]
  },
  {
   "cell_type": "code",
   "execution_count": 4,
   "id": "55fc8d08",
   "metadata": {},
   "outputs": [],
   "source": [
    "#train_tokenized[10]"
   ]
  },
  {
   "cell_type": "markdown",
   "id": "df1a94fb",
   "metadata": {},
   "source": [
    "## Let's Train"
   ]
  },
  {
   "cell_type": "code",
   "execution_count": 5,
   "id": "2be38d6e",
   "metadata": {},
   "outputs": [],
   "source": [
    "from transformers import T5ForConditionalGeneration, T5Tokenizer, T5Config, TrainingArguments, Trainer"
   ]
  },
  {
   "cell_type": "code",
   "execution_count": 6,
   "id": "d1c23033",
   "metadata": {},
   "outputs": [],
   "source": [
    "# Configure the model\n",
    "config = T5Config.from_pretrained('t5-base')\n",
    "\n",
    "# Initialize the model\n",
    "model = T5ForConditionalGeneration.from_pretrained('t5-base', config=config)\n",
    "\n",
    "# Disable caching for the model, prevents cache error message during the training!\n",
    "model.config.use_cache = False"
   ]
  },
  {
   "cell_type": "code",
   "execution_count": 7,
   "id": "b5105cf8",
   "metadata": {},
   "outputs": [],
   "source": [
    "# Configure training arguments\n",
    "training_args = TrainingArguments(\n",
    "    output_dir='./results',\n",
    "    num_train_epochs=3,\n",
    "    per_device_train_batch_size=8,\n",
    "    per_device_eval_batch_size=8,\n",
    "    evaluation_strategy='epoch',\n",
    "    save_strategy='epoch',\n",
    "    logging_strategy='epoch',\n",
    "    logging_dir='./logs',\n",
    "    gradient_accumulation_steps=2,\n",
    "#     gradient_checkpointing=True,\n",
    "    learning_rate=1e-4,\n",
    "    warmup_steps=100,\n",
    "    weight_decay=0.01,\n",
    "    fp16=True,\n",
    "    load_best_model_at_end=True\n",
    ")\n",
    "\n",
    "# Define the trainer\n",
    "trainer = Trainer(\n",
    "    model=model,\n",
    "    args=training_args,\n",
    "    train_dataset=train_tokenized,\n",
    "    eval_dataset=val_tokenized\n",
    ")"
   ]
  },
  {
   "cell_type": "code",
   "execution_count": 8,
   "id": "74ea138b",
   "metadata": {},
   "outputs": [
    {
     "name": "stderr",
     "output_type": "stream",
     "text": [
      "/home/datascience/conda/pytorch110_p38_gpu_v1/lib/python3.8/site-packages/transformers/optimization.py:391: FutureWarning: This implementation of AdamW is deprecated and will be removed in a future version. Use the PyTorch implementation torch.optim.AdamW instead, or set `no_deprecation_warning=True` to disable this warning\n",
      "  warnings.warn(\n",
      "/home/datascience/conda/pytorch110_p38_gpu_v1/lib/python3.8/site-packages/torch/nn/parallel/_functions.py:68: UserWarning: Was asked to gather along dimension 0, but all input tensors were scalars; will instead unsqueeze and return a vector.\n",
      "  warnings.warn('Was asked to gather along dimension 0, but all '\n"
     ]
    },
    {
     "data": {
      "text/html": [
       "\n",
       "    <div>\n",
       "      \n",
       "      <progress value='936' max='936' style='width:300px; height:20px; vertical-align: middle;'></progress>\n",
       "      [936/936 20:14, Epoch 2/3]\n",
       "    </div>\n",
       "    <table border=\"1\" class=\"dataframe\">\n",
       "  <thead>\n",
       " <tr style=\"text-align: left;\">\n",
       "      <th>Epoch</th>\n",
       "      <th>Training Loss</th>\n",
       "      <th>Validation Loss</th>\n",
       "    </tr>\n",
       "  </thead>\n",
       "  <tbody>\n",
       "    <tr>\n",
       "      <td>0</td>\n",
       "      <td>3.090000</td>\n",
       "      <td>2.004921</td>\n",
       "    </tr>\n",
       "    <tr>\n",
       "      <td>2</td>\n",
       "      <td>2.163800</td>\n",
       "      <td>1.923236</td>\n",
       "    </tr>\n",
       "    <tr>\n",
       "      <td>2</td>\n",
       "      <td>2.192800</td>\n",
       "      <td>1.980517</td>\n",
       "    </tr>\n",
       "  </tbody>\n",
       "</table><p>"
      ],
      "text/plain": [
       "<IPython.core.display.HTML object>"
      ]
     },
     "metadata": {},
     "output_type": "display_data"
    },
    {
     "name": "stderr",
     "output_type": "stream",
     "text": [
      "/home/datascience/conda/pytorch110_p38_gpu_v1/lib/python3.8/site-packages/torch/nn/parallel/_functions.py:68: UserWarning: Was asked to gather along dimension 0, but all input tensors were scalars; will instead unsqueeze and return a vector.\n",
      "  warnings.warn('Was asked to gather along dimension 0, but all '\n",
      "/home/datascience/conda/pytorch110_p38_gpu_v1/lib/python3.8/site-packages/torch/nn/parallel/_functions.py:68: UserWarning: Was asked to gather along dimension 0, but all input tensors were scalars; will instead unsqueeze and return a vector.\n",
      "  warnings.warn('Was asked to gather along dimension 0, but all '\n"
     ]
    },
    {
     "data": {
      "text/plain": [
       "TrainOutput(global_step=936, training_loss=2.4821708222739716, metrics={'train_runtime': 1218.062, 'train_samples_per_second': 24.629, 'train_steps_per_second': 0.768, 'total_flos': 1.823950673805312e+16, 'train_loss': 2.4821708222739716, 'epoch': 3.0})"
      ]
     },
     "execution_count": 8,
     "metadata": {},
     "output_type": "execute_result"
    }
   ],
   "source": [
    "import torch\n",
    "torch.cuda.empty_cache()\n",
    "\n",
    "# Fine-tune the model\n",
    "trainer.train()"
   ]
  },
  {
   "cell_type": "code",
   "execution_count": 10,
   "id": "85f375b4",
   "metadata": {},
   "outputs": [],
   "source": [
    "# Save the fine-tuned model\n",
    "model.save_pretrained(\"fine_tuned_t5_recipes_base_10k_v4\")\n",
    "# tokenizer.save_pretrained(\"fine_tuned_t5_recipes_base_5k_v3\")"
   ]
  },
  {
   "cell_type": "markdown",
   "id": "d617329b",
   "metadata": {},
   "source": [
    "### Next: Let's try the tuned model -> Lab 5"
   ]
  },
  {
   "cell_type": "code",
   "execution_count": null,
   "id": "d616b596",
   "metadata": {},
   "outputs": [],
   "source": []
  }
 ],
 "metadata": {
  "kernelspec": {
   "display_name": "Python [conda env:pytorch110_p38_gpu_v1]",
   "language": "python",
   "name": "conda-env-pytorch110_p38_gpu_v1-py"
  },
  "language_info": {
   "codemirror_mode": {
    "name": "ipython",
    "version": 3
   },
   "file_extension": ".py",
   "mimetype": "text/x-python",
   "name": "python",
   "nbconvert_exporter": "python",
   "pygments_lexer": "ipython3",
   "version": "3.8.13"
  }
 },
 "nbformat": 4,
 "nbformat_minor": 5
}
