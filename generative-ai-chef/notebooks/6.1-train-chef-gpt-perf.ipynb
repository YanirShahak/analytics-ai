{
 "cells": [
  {
   "cell_type": "markdown",
   "id": "8cda5f71",
   "metadata": {},
   "source": [
    "# Let's Train ChefGPT\n",
    "\n",
    "Let's fine tune our own ChefGPT model. "
   ]
  },
  {
   "cell_type": "markdown",
   "id": "8e73d25b",
   "metadata": {},
   "source": [
    "## Let's Train"
   ]
  },
  {
   "cell_type": "code",
   "execution_count": null,
   "id": "577e6b0c",
   "metadata": {},
   "outputs": [],
   "source": [
    "from datasets import load_from_disk\n",
    "\n",
    "# worked well!\n",
    "# train_tokenized = load_from_disk('./tokenized_train_dataset_10k_v3')\n",
    "# val_tokenized = load_from_disk('./tokenized_test_dataset_10k_v3')\n",
    "\n",
    "train_tokenized = load_from_disk('./tokenized_bloomz_1b7_train_dataset_10k_v4')\n",
    "val_tokenized = load_from_disk('./tokenized_bloomz_1b7_test_dataset_10k_v4')"
   ]
  },
  {
   "cell_type": "code",
   "execution_count": null,
   "id": "705eae9d",
   "metadata": {},
   "outputs": [],
   "source": [
    "train_tokenized.shape"
   ]
  },
  {
   "cell_type": "code",
   "execution_count": null,
   "id": "9f6953f0",
   "metadata": {},
   "outputs": [],
   "source": [
    "val_tokenized.shape"
   ]
  },
  {
   "cell_type": "code",
   "execution_count": null,
   "id": "87192c15",
   "metadata": {},
   "outputs": [],
   "source": [
    "#train_tokenized[10]"
   ]
  },
  {
   "cell_type": "markdown",
   "id": "39059f96",
   "metadata": {},
   "source": [
    "## Let's Train"
   ]
  },
  {
   "cell_type": "code",
   "execution_count": null,
   "id": "680f4e1c",
   "metadata": {},
   "outputs": [],
   "source": [
    "from transformers import AutoModelForSeq2SeqLM, TrainingArguments, Trainer"
   ]
  },
  {
   "cell_type": "code",
   "execution_count": null,
   "id": "a213f597",
   "metadata": {},
   "outputs": [],
   "source": [
    "# model = AutoModelForSeq2SeqLM.from_pretrained('bigscience/mt0-large', use_cache=False, load_in_8bit=True, device_map=\"auto\")\n",
    "model = AutoModelForSeq2SeqLM.from_pretrained('bigscience/mt0-xxl', use_cache=False, load_in_8bit=True, device_map=\"auto\")\n",
    "\n",
    "# Disable caching for the model, prevents cache error message during the training!\n",
    "model.config.use_cache = False"
   ]
  },
  {
   "cell_type": "code",
   "execution_count": null,
   "id": "062e3178",
   "metadata": {},
   "outputs": [],
   "source": [
    "from peft import get_peft_config, get_peft_model, LoraConfig, TaskType, prepare_model_for_int8_training\n",
    "\n",
    "peft_config = LoraConfig(\n",
    "    task_type=TaskType.SEQ_2_SEQ_LM, inference_mode=False, r=8, lora_alpha=32, lora_dropout=0.1\n",
    ")\n",
    "\n",
    "model = prepare_model_for_int8_training(model)\n",
    "model = get_peft_model(model, peft_config)\n",
    "model.print_trainable_parameters()"
   ]
  },
  {
   "cell_type": "code",
   "execution_count": null,
   "id": "129b3acb",
   "metadata": {},
   "outputs": [],
   "source": [
    "# Configure training arguments\n",
    "training_args = TrainingArguments(\n",
    "    output_dir='./results',\n",
    "    num_train_epochs=3,\n",
    "    auto_find_batch_size=True,\n",
    "#     per_device_train_batch_size=8,\n",
    "#     per_device_eval_batch_size=8,\n",
    "    evaluation_strategy='epoch',\n",
    "    save_strategy='epoch',\n",
    "    logging_strategy='epoch',\n",
    "    logging_dir='./logs',\n",
    "    gradient_accumulation_steps=2,\n",
    "#     gradient_checkpointing=True,\n",
    "    learning_rate=1e-4,\n",
    "    warmup_steps=100,\n",
    "    weight_decay=0.01,\n",
    "    load_best_model_at_end=True,\n",
    "#     optim=\"adamw_torch\",\n",
    "#     adam_beta1=0.85\n",
    ")\n",
    "\n",
    "# Define the trainer\n",
    "trainer = Trainer(\n",
    "    model=model,\n",
    "    args=training_args,\n",
    "    train_dataset=train_tokenized,\n",
    "    eval_dataset=val_tokenized\n",
    ")"
   ]
  },
  {
   "cell_type": "code",
   "execution_count": null,
   "id": "84d858bd",
   "metadata": {},
   "outputs": [],
   "source": [
    "# import torch\n",
    "# torch.cuda.empty_cache()\n",
    "\n",
    "# Fine-tune the model\n",
    "trainer.train()"
   ]
  },
  {
   "cell_type": "code",
   "execution_count": null,
   "id": "d209636d",
   "metadata": {},
   "outputs": [],
   "source": [
    "# Save the fine-tuned model\n",
    "model.save_pretrained(\"fine_tuned_bloomz_1b7_recipes_10k_v4\")\n",
    "# tokenizer.save_pretrained(\"fine_tuned_t5_recipes_base_5k_v3\")"
   ]
  },
  {
   "cell_type": "code",
   "execution_count": null,
   "id": "25718b82",
   "metadata": {},
   "outputs": [],
   "source": []
  }
 ],
 "metadata": {
  "kernelspec": {
   "display_name": "Python [conda env:pytorch110_p38_gpu_v1]",
   "language": "python",
   "name": "conda-env-pytorch110_p38_gpu_v1-py"
  },
  "language_info": {
   "codemirror_mode": {
    "name": "ipython",
    "version": 3
   },
   "file_extension": ".py",
   "mimetype": "text/x-python",
   "name": "python",
   "nbconvert_exporter": "python",
   "pygments_lexer": "ipython3",
   "version": "3.8.13"
  }
 },
 "nbformat": 4,
 "nbformat_minor": 5
}
