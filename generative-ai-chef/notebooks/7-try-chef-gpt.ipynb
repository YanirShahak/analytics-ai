{
 "cells": [
  {
   "cell_type": "markdown",
   "id": "599cacaf",
   "metadata": {},
   "source": [
    "# Let's try the ChefGPT\n",
    "\n",
    "Let's try our newly trained model and see how well it performs"
   ]
  },
  {
   "cell_type": "code",
   "execution_count": 1,
   "id": "6e6f9fba",
   "metadata": {},
   "outputs": [],
   "source": [
    "from transformers import T5ForConditionalGeneration, T5Tokenizer\n",
    "\n",
    "# model = T5ForConditionalGeneration.from_pretrained(\"fine_tuned_t5_recipes_base_5k_v3\",device_map=\"auto\")\n",
    "# tokenizer = T5Tokenizer.from_pretrained(\"fine_tuned_t5_recipes_base_5k_v3\")\n",
    "\n",
    "model = T5ForConditionalGeneration.from_pretrained(\"fine_tuned_t5_recipes_base_10k_v4\",device_map=\"auto\")\n",
    "tokenizer = T5Tokenizer.from_pretrained(\"fine_tuned_t5_recipes_base_10k_v4\")"
   ]
  },
  {
   "cell_type": "code",
   "execution_count": 2,
   "id": "6415cb28",
   "metadata": {},
   "outputs": [],
   "source": [
    "#\n",
    "generation_kwargs_v2 = {\n",
    "    \"max_length\": 512,\n",
    "    \"no_repeat_ngram_size\": 3,\n",
    "    \"do_sample\": True,\n",
    "    \"top_k\": 60,\n",
    "#     \"temperature\": 0.7,\n",
    "    \"top_p\": 0.95,\n",
    "    \"num_beams\": 5,\n",
    "    \"num_return_sequences\": 3,\n",
    "    \"early_stopping\": True    \n",
    "}\n",
    "\n",
    "#\n",
    "generation_kwargs_v3 = {\n",
    "    \"max_length\": 512,\n",
    "    \"do_sample\": True,\n",
    "    \"top_k\": 50,\n",
    "    \"top_p\": 0.95,\n",
    "    \"num_return_sequences\": 3\n",
    "}\n",
    "\n",
    "generation_kwargs_v4 = {\n",
    "    \"max_length\": 512,\n",
    "    \"min_length\": 64,\n",
    "    \"no_repeat_ngram_size\": 3,\n",
    "    \"do_sample\": True,\n",
    "    \"top_k\": 60,\n",
    "    \"top_p\": 0.95\n",
    "}\n",
    "\n",
    "def generate_recipe_v1(prompt):\n",
    "    input_text = f\"generate recipe: {prompt}\"\n",
    "    input_ids = tokenizer.encode(input_text, return_tensors=\"pt\")\n",
    "    input_ids = input_ids.to('cuda')\n",
    "    output_ids = model.generate(input_ids, max_length=512, num_return_sequences=1)\n",
    "    output_text = tokenizer.decode(output_ids[0], skip_special_tokens=True)    \n",
    "    return output_text\n",
    "\n",
    "def generate_recipe_v2(prompt):\n",
    "    input_text = f\"generate recipe: {prompt}\"\n",
    "    input_ids = tokenizer(input_text, return_tensors=\"pt\", padding='max_length', truncation=True, max_length=512).input_ids\n",
    "    output_ids = model.generate(input_ids, **generation_kwargs_v2)\n",
    "    output_text = tokenizer.decode(output_ids[0], skip_special_tokens=True)\n",
    "    return output_text\n",
    "\n",
    "def generate_recipe_v3(prompt):\n",
    "    input_text = f\"generate recipe: {prompt}\"\n",
    "    input_ids = tokenizer(input_text, return_tensors=\"pt\", padding='max_length', truncation=True, max_length=512).input_ids\n",
    "    output_ids = model.generate(input_ids, **generation_kwargs_v3)\n",
    "    output_text = tokenizer.decode(output_ids[0], skip_special_tokens=True)\n",
    "    return output_text\n",
    "\n",
    "def generate_recipe_v4(prompt):\n",
    "    input_text = f\"generate recipe: {prompt}\"\n",
    "    inputs = tokenizer(\n",
    "        input_text, \n",
    "        max_length=512, \n",
    "        padding=\"max_length\", \n",
    "        truncation=True, \n",
    "        return_tensors=\"pt\"\n",
    "    )\n",
    "\n",
    "    input_ids = inputs.input_ids\n",
    "    attention_mask = inputs.attention_mask\n",
    "\n",
    "    output_ids = model.generate(\n",
    "        input_ids=input_ids, \n",
    "        attention_mask=attention_mask,\n",
    "        **generation_kwargs_v4\n",
    "    )\n",
    "    output_text = tokenizer.decode(output_ids[0], skip_special_tokens=True)\n",
    "    return output_text"
   ]
  },
  {
   "cell_type": "code",
   "execution_count": 3,
   "id": "7ec2c6a6",
   "metadata": {},
   "outputs": [
    {
     "name": "stderr",
     "output_type": "stream",
     "text": [
      "/home/datascience/conda/pytorch110_p38_gpu_v1/lib/python3.8/site-packages/transformers/generation/utils.py:1219: UserWarning: You have modified the pretrained model configuration to control generation. This is a deprecated strategy to control generation and will be removed soon, in a future version. Please use a generation configuration file (see https://huggingface.co/docs/transformers/main_classes/text_generation)\n",
      "  warnings.warn(\n"
     ]
    },
    {
     "name": "stdout",
     "output_type": "stream",
     "text": [
      "title: Chicken Soup ingredients: 1 lb. chicken, 1 can peas, 1 can carrots, 1 can cream of chicken soup, 1 can cream of celery soup, 1 can chicken broth, 1 can milk, Bisquick mix directions: Cook chicken in boiling water until tender. Drain. Add peas carrots cream of chicken soup cream of celery soup chicken broth milk Bisquick mix and mix well. Add chicken broth milk Bisquick mix and mix well. Add chicken mixture and mix well.\n"
     ]
    }
   ],
   "source": [
    "# food_items = \"butter, mushrooms, garlic, zucchini, onion, eggs, Ricotta cheese, shredded Monterey Jack, frozen spinach, dill weed, salt\"\n",
    "# food_items = \"chicken breasts, lime marinade, tomatoes, shredded cheese, tortilla chips\"\n",
    "#food_items = \"pie shell, eggs, butter, sugar, cocoa, flour, milk, vanilla\"\n",
    "# food_items = \"cooking oats, brown sugar, salad oil, eggs, salt, almond extract\"\n",
    "# food_items = \"cooking oat, brown sugar, salad oil, eggs, salt, almond extract\"\n",
    "# food_items = \"coconut, sugar, bran cereal, pumpkin seeds, flour, rolled oats, milk\"\n",
    "# food_items = \"Salt, Pepper, FILLING, Olive Oil, Sausage, Fresh Spinach Leaves, Eggs, Egg Whites, Coconut Milk, Colby Cheese, Salt, Pepper, Hot Sauce, Green Onions\"\n",
    "food_items = \"chicken, peas, carrots, cream of chicken soup, cream of celery soup, chicken broth, milk, Bisquick mix\"\n",
    "\n",
    "recipe = generate_recipe_v1(food_items)\n",
    "# s = recipe.replace(\"ingredients:\", \"\\n\\nIngredients:\").replace(\"directions:\", \"\\n\\nDirections:\")\n",
    "print(recipe)\n",
    "# print(s)"
   ]
  },
  {
   "cell_type": "code",
   "execution_count": null,
   "id": "c05f1fda",
   "metadata": {},
   "outputs": [],
   "source": []
  },
  {
   "cell_type": "code",
   "execution_count": 5,
   "id": "8a55ea44",
   "metadata": {},
   "outputs": [
    {
     "name": "stdout",
     "output_type": "stream",
     "text": [
      "title: Chicken Casserole ingredients: 1 lb. chicken, 1 c. chopped peas, 2 carrots, chopped, 1 can cream of chicken soup, 2 cans cream of celery soup, 3 cans chicken broth, 1 cup milk, Bisquick mix directions: Preheat oven to 400u00b0F. In a large bowl combine chicken soup milk and milk. Mix well. Pour over chicken. Cover and refrigerate until ready to serve.\n"
     ]
    }
   ],
   "source": [
    "# very CPU intensive!\n",
    "recipe = generate_recipe_v2(food_items)\n",
    "# s = recipe.replace(\"ingredients:\", \"\\n\\nIngredients:\").replace(\"directions:\", \"\\n\\nDirections:\")\n",
    "print(recipe)\n",
    "# sprint(s)"
   ]
  },
  {
   "cell_type": "code",
   "execution_count": null,
   "id": "a7b186be",
   "metadata": {},
   "outputs": [],
   "source": []
  },
  {
   "cell_type": "code",
   "execution_count": 6,
   "id": "4bfa1c51",
   "metadata": {},
   "outputs": [
    {
     "name": "stdout",
     "output_type": "stream",
     "text": [
      "title: Chicken Cheez Up \n",
      "\n",
      "Ingredients: 3 chicken pieces, 4 cups ground beef or steak steaks or turkey, chopped, 3 cups chopped peas, 2 cups chopped carrots, 2 cups cream of chicken soup, 3 cup cream of celery soup, 1 1/2 cups chicken broth (milk, 1 1/2 cups), Bisquick mix \n",
      "\n",
      "Directions: Mix together all ingredients in a large pot; cover and bake at 400u00b0 for 1-2 minutes.\n"
     ]
    }
   ],
   "source": [
    "recipe = generate_recipe_v3(food_items)\n",
    "s = recipe.replace(\"ingredients:\", \"\\n\\nIngredients:\").replace(\"directions:\", \"\\n\\nDirections:\")\n",
    "print(s)"
   ]
  },
  {
   "cell_type": "code",
   "execution_count": null,
   "id": "966252fa",
   "metadata": {},
   "outputs": [],
   "source": []
  },
  {
   "cell_type": "code",
   "execution_count": 7,
   "id": "70510aeb",
   "metadata": {},
   "outputs": [
    {
     "name": "stdout",
     "output_type": "stream",
     "text": [
      "title: Carrot And Chicken Yeast Casserole \n",
      "\n",
      "Ingredients: 1 chicken breast cut in half lengthwise, 8 cooked peas cut to lengthwise (about 1 cup), 4 cooked carrots cut in wedges (about 1-1/2 inches long), 1 can cream of chicken soup, 2 cans cream of celery soup, 3 cups chicken broth, 2 cups milk, 1 jar Bisquick mix \n",
      "\n",
      "Directions: In 8-inch-deep casserole place the chicken pea seeds pea and carrots and cream of corn soup soup cream of onion soup cream celery broth cream cheese milk Bisquix mix and gravy (or any other vegetables) in a medium saucepan bring to boil stirring occasionally over medium heat stirring occasionally to prevent boil or simmering. Add chicken broth milk and mix until creamy mixture is thickened. Put the potatoes on a lightly floured baking sheet lined with plastic wrap. Cover with pan lids. Place chicken in greased baking pan and set aside. Bake 10 minutes or until chicken becomes tender but still tender but not crispy about 1 hour. Remove chicken to Florida. Keeps well in refrigerator overnight until chicken is well coated; set aside until chicken has set up on rack and can stand the lids in refrigerator until the sides are browned compared to pie plate. Stir in Bisquicker mix. Bake 30 minutes before removing. Serve with your favorite bowl.\n"
     ]
    }
   ],
   "source": [
    "recipe = generate_recipe_v4(food_items)\n",
    "s = recipe.replace(\"ingredients:\", \"\\n\\nIngredients:\").replace(\"directions:\", \"\\n\\nDirections:\")\n",
    "# print(recipe)\n",
    "print(s)"
   ]
  },
  {
   "cell_type": "code",
   "execution_count": null,
   "id": "482b479e",
   "metadata": {},
   "outputs": [],
   "source": []
  },
  {
   "cell_type": "markdown",
   "id": "04575da7",
   "metadata": {},
   "source": [
    "## Using Pipelines"
   ]
  },
  {
   "cell_type": "code",
   "execution_count": 8,
   "id": "3a0749f7",
   "metadata": {},
   "outputs": [],
   "source": [
    "from transformers import pipeline\n",
    "# from transformers import T5ForConditionalGeneration, T5Tokenizer\n",
    "\n",
    "# model = T5ForConditionalGeneration.from_pretrained(\"fine_tuned_t5_recipes_base_v3\")\n",
    "# tokenizer = T5Tokenizer.from_pretrained(\"fine_tuned_t5_recipes_base_v3\", model_max_len=512)\n",
    "\n",
    "# model = T5ForConditionalGeneration.from_pretrained(\"fine_tuned_t5_recipes_base_5K_v3\")\n",
    "# tokenizer = T5Tokenizer.from_pretrained(\"fine_tuned_t5_recipes_base_5K_v3\")\n",
    "\n",
    "# model = T5ForConditionalGeneration.from_pretrained(\"fine_tuned_t5_recipes_base_10K_v1\")\n",
    "# tokenizer = T5Tokenizer.from_pretrained(\"fine_tuned_t5_recipes_base_10K_v1\")\n",
    "\n",
    "generator = pipeline(model=model, tokenizer=tokenizer, task=\"text2text-generation\")"
   ]
  },
  {
   "cell_type": "code",
   "execution_count": 9,
   "id": "c1c79090",
   "metadata": {},
   "outputs": [
    {
     "name": "stdout",
     "output_type": "stream",
     "text": [
      "recipe: Tossed chicken, peas, carrots, cream of chicken soup, cream of celery soup, chicken broth, milk, Bisquick mix, liquid stir together cream of chicken broth and milk, cream of cream of meat soup \n",
      "\n",
      "Ingredients: 1/2 cup chicken breast, 1/2 cup milk, 1/2 cup Bisquick mix. Sprinkle over chicken soup, salt, and pepper. Cover and bring to a boil. Bake for 40 minutes. Remove chicken from heat and place. Heat remaining cream of chicken soup into a 12-ounce plastic container. Cover and leave to cool for 30 minutes, and stir in water. Add milk and milk. Add salt and pepper. Top with pepper.\n"
     ]
    }
   ],
   "source": [
    "# food_items = 'cooking oats, brown sugar, salad oil, eggs, salt, almond extract'\n",
    "# food_items = 'ground beef, vinegar, sugar, chili powder, Worcestershire sauce, catsup, mustard, onion'\n",
    "# food_items = \"cooking oat, brown sugar, salad oil, eggs, salt, almond extract\"\n",
    "# food_items = \"coconut, sugar, bran cereal, pumpkin seeds, flour, rolled oats, milk\"\n",
    "# food_items = \"butter, mushrooms, garlic, zucchini, onion, eggs, Ricotta cheese, shredded Monterey Jack, frozen spinach, dill weed, salt\"\n",
    "# food_items = \"cooking oats, brown sugar, salad oil, eggs, salt, almond extract\"\n",
    "# food_items = \"Salt, Pepper, FILLING, Olive Oil, Sausage, Fresh Spinach Leaves, Eggs, Egg Whites, Coconut Milk, Colby Cheese, Salt, Pepper, Hot Sauce, Green Onions\"\n",
    "food_items = \"chicken, peas, carrots, cream of chicken soup, cream of celery soup, chicken broth, milk, Bisquick mix\"\n",
    "\n",
    "tokenizer_kwargs = {\n",
    "    \"max_length\": 512,\n",
    "    \"do_sample\": True,\n",
    "    \"top_k\": 60,\n",
    "    \"top_p\": 0.95,\n",
    "    \"num_return_sequences\": 2\n",
    "}\n",
    "\n",
    "response = generator(f\"generate recipe: {food_items}\", **tokenizer_kwargs)\n",
    "\n",
    "print(response[0]['generated_text'].replace(\"ingredients:\", \"\\n\\nIngredients:\").replace(\"directions:\", \"\\n\\nDirections:\"))"
   ]
  },
  {
   "cell_type": "code",
   "execution_count": null,
   "id": "0ccb08e6",
   "metadata": {},
   "outputs": [],
   "source": []
  }
 ],
 "metadata": {
  "kernelspec": {
   "display_name": "Python [conda env:pytorch110_p38_gpu_v1]",
   "language": "python",
   "name": "conda-env-pytorch110_p38_gpu_v1-py"
  },
  "language_info": {
   "codemirror_mode": {
    "name": "ipython",
    "version": 3
   },
   "file_extension": ".py",
   "mimetype": "text/x-python",
   "name": "python",
   "nbconvert_exporter": "python",
   "pygments_lexer": "ipython3",
   "version": "3.8.13"
  }
 },
 "nbformat": 4,
 "nbformat_minor": 5
}
