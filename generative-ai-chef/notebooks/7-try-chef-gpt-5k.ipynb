{
 "cells": [
  {
   "cell_type": "markdown",
   "id": "3539fcf0",
   "metadata": {},
   "source": [
    "# Let's try the ChefGPT\n",
    "\n",
    "Let's try our newly trained model and see how well it performs"
   ]
  },
  {
   "cell_type": "code",
   "execution_count": 1,
   "id": "b832a5f4",
   "metadata": {},
   "outputs": [],
   "source": [
    "from transformers import T5ForConditionalGeneration, T5Tokenizer\n",
    "\n",
    "model = T5ForConditionalGeneration.from_pretrained(\"fine_tuned_t5_recipes_base_5k_v1\", device_map=\"auto\")\n",
    "tokenizer = T5Tokenizer.from_pretrained(\"fine_tuned_t5_recipes_base_5k_v1\")"
   ]
  },
  {
   "cell_type": "code",
   "execution_count": 2,
   "id": "a27cee62",
   "metadata": {},
   "outputs": [],
   "source": [
    "#\n",
    "generation_kwargs_v2 = {\n",
    "    \"max_length\": 512,\n",
    "    \"no_repeat_ngram_size\": 3,\n",
    "    \"do_sample\": True,\n",
    "    \"top_k\": 60,\n",
    "#     \"temperature\": 0.7,\n",
    "    \"top_p\": 0.95,\n",
    "    \"num_beams\": 5,\n",
    "    \"num_return_sequences\": 3,\n",
    "    \"early_stopping\": True    \n",
    "}\n",
    "\n",
    "#\n",
    "generation_kwargs_v3 = {\n",
    "    \"max_length\": 512,\n",
    "    \"do_sample\": True,\n",
    "    \"top_k\": 50,\n",
    "    \"top_p\": 0.95,\n",
    "    \"num_return_sequences\": 3\n",
    "}\n",
    "\n",
    "generation_kwargs_v4 = {\n",
    "    \"max_length\": 512,\n",
    "    \"min_length\": 64,\n",
    "    \"no_repeat_ngram_size\": 3,\n",
    "    \"do_sample\": True,\n",
    "    \"top_k\": 60,\n",
    "    \"top_p\": 0.95\n",
    "}\n",
    "\n",
    "def generate_recipe_v1(prompt):\n",
    "    input_text = f\"generate recipe: {prompt}\"\n",
    "    input_ids = tokenizer.encode(input_text, return_tensors=\"pt\")\n",
    "    input_ids = input_ids.to('cuda')\n",
    "    output_ids = model.generate(input_ids, max_length=512, num_return_sequences=1)\n",
    "    output_text = tokenizer.decode(output_ids[0], skip_special_tokens=True)    \n",
    "    return output_text\n",
    "\n",
    "def generate_recipe_v2(prompt):\n",
    "    input_text = f\"generate recipe: {prompt}\"\n",
    "    input_ids = tokenizer(input_text, return_tensors=\"pt\", padding='max_length', truncation=True, max_length=512).input_ids\n",
    "    output_ids = model.generate(input_ids, **generation_kwargs_v2)\n",
    "    output_text = tokenizer.decode(output_ids[0], skip_special_tokens=True)\n",
    "    return output_text\n",
    "\n",
    "def generate_recipe_v3(prompt):\n",
    "    input_text = f\"generate recipe: {prompt}\"\n",
    "    input_ids = tokenizer(input_text, return_tensors=\"pt\", padding='max_length', truncation=True, max_length=512).input_ids\n",
    "    output_ids = model.generate(input_ids, **generation_kwargs_v3)\n",
    "    output_text = tokenizer.decode(output_ids[0], skip_special_tokens=True)\n",
    "    return output_text\n",
    "\n",
    "def generate_recipe_v4(prompt):\n",
    "    input_text = f\"generate recipe: {prompt}\"\n",
    "    inputs = tokenizer(\n",
    "        input_text, \n",
    "        max_length=512, \n",
    "        padding=\"max_length\", \n",
    "        truncation=True, \n",
    "        return_tensors=\"pt\"\n",
    "    )\n",
    "\n",
    "    input_ids = inputs.input_ids\n",
    "    attention_mask = inputs.attention_mask\n",
    "\n",
    "    output_ids = model.generate(\n",
    "        input_ids=input_ids, \n",
    "        attention_mask=attention_mask,\n",
    "        **generation_kwargs_v4\n",
    "    )\n",
    "    output_text = tokenizer.decode(output_ids[0], skip_special_tokens=True)\n",
    "    return output_text"
   ]
  },
  {
   "cell_type": "code",
   "execution_count": 3,
   "id": "be842f74",
   "metadata": {},
   "outputs": [
    {
     "name": "stderr",
     "output_type": "stream",
     "text": [
      "/home/datascience/conda/pytorch110_p38_gpu_v1/lib/python3.8/site-packages/transformers/generation/utils.py:1219: UserWarning: You have modified the pretrained model configuration to control generation. This is a deprecated strategy to control generation and will be removed soon, in a future version. Please use a generation configuration file (see https://huggingface.co/docs/transformers/main_classes/text_generation)\n",
      "  warnings.warn(\n"
     ]
    },
    {
     "name": "stdout",
     "output_type": "stream",
     "text": [
      "title: Chicken Soup ingredients: 1 lb. chicken, 1 c. peas, 1 c. carrots, 1 c. cream of chicken soup, 1 c. cream of celery soup, 1 c. chicken broth, 1 c. milk, 1 c. Bisquick mix directions: Cook chicken in boiling water. Add peas and carrots. Add soup and chicken broth. Add milk and mix well. Add Bisquick mix. Cook until chicken is tender.\n"
     ]
    }
   ],
   "source": [
    "# food_items = \"butter, mushrooms, garlic, zucchini, onion, eggs, Ricotta cheese, shredded Monterey Jack, frozen spinach, dill weed, salt\"\n",
    "# food_items = \"chicken breasts, lime marinade, tomatoes, shredded cheese, tortilla chips\"\n",
    "#food_items = \"pie shell, eggs, butter, sugar, cocoa, flour, milk, vanilla\"\n",
    "# food_items = \"cooking oats, brown sugar, salad oil, eggs, salt, almond extract\"\n",
    "# food_items = \"cooking oat, brown sugar, salad oil, eggs, salt, almond extract\"\n",
    "# food_items = \"coconut, sugar, bran cereal, pumpkin seeds, flour, rolled oats, milk\"\n",
    "# food_items = \"Salt, Pepper, FILLING, Olive Oil, Sausage, Fresh Spinach Leaves, Eggs, Egg Whites, Coconut Milk, Colby Cheese, Salt, Pepper, Hot Sauce, Green Onions\"\n",
    "food_items = \"chicken, peas, carrots, cream of chicken soup, cream of celery soup, chicken broth, milk, Bisquick mix\"\n",
    "\n",
    "recipe = generate_recipe_v1(food_items)\n",
    "# s = recipe.replace(\"ingredients:\", \"\\n\\nIngredients:\").replace(\"directions:\", \"\\n\\nDirections:\")\n",
    "print(recipe)\n",
    "# print(s)"
   ]
  },
  {
   "cell_type": "code",
   "execution_count": null,
   "id": "12b3e840",
   "metadata": {},
   "outputs": [],
   "source": []
  },
  {
   "cell_type": "code",
   "execution_count": 5,
   "id": "5bb5767e",
   "metadata": {},
   "outputs": [
    {
     "name": "stdout",
     "output_type": "stream",
     "text": [
      "title: Chicken Casserole ingredients: 1 lb. chicken, 1 c. chopped peas, 2 carrots, chopped, 1 can cream of chicken soup, 2 cans cream of celery soup, 3 cans chicken broth, 1 cup milk, Bisquick mix directions: Preheat oven to 400u00b0F. In a large bowl combine chicken soup milk and milk. Mix well. Pour over chicken. Cover and refrigerate until ready to serve.\n"
     ]
    }
   ],
   "source": [
    "# very CPU intensive!\n",
    "recipe = generate_recipe_v2(food_items)\n",
    "# s = recipe.replace(\"ingredients:\", \"\\n\\nIngredients:\").replace(\"directions:\", \"\\n\\nDirections:\")\n",
    "print(recipe)\n",
    "# sprint(s)"
   ]
  },
  {
   "cell_type": "code",
   "execution_count": null,
   "id": "9e97a532",
   "metadata": {},
   "outputs": [],
   "source": []
  },
  {
   "cell_type": "code",
   "execution_count": 4,
   "id": "cffa13b8",
   "metadata": {},
   "outputs": [
    {
     "name": "stderr",
     "output_type": "stream",
     "text": [
      "/home/datascience/conda/pytorch110_p38_gpu_v1/lib/python3.8/site-packages/transformers/generation/utils.py:1405: UserWarning: You are calling .generate() with the `input_ids` being on a device type different than your model's device. `input_ids` is on cpu, whereas the model is on cuda. You may experience unexpected behaviors or slower generation. Please make sure that you have put `input_ids` to the correct device by calling for example input_ids = input_ids.to('cuda') before running `.generate()`.\n",
      "  warnings.warn(\n"
     ]
    },
    {
     "name": "stdout",
     "output_type": "stream",
     "text": [
      "title: Chicken Pot Pie \n",
      "\n",
      "Ingredients: 1 1/2 lb. chicken pot pie mix, 1 large bowl of peas, 1 small can fresh carrots, 1 (1 oz.) can cream of chicken soup, 2 oz. can cream of celery soup, 1 can chicken broth, 1 c. milk, 1/2 c. Bisquick mix \n",
      "\n",
      "Directions: Add chicken and peas. Cook for 15 minutes. Add carrots and cream of chicken soup. Add chicken broth and milk. Add Bisquick mix. Bake for 1 hour.\n"
     ]
    }
   ],
   "source": [
    "recipe = generate_recipe_v3(food_items)\n",
    "s = recipe.replace(\"ingredients:\", \"\\n\\nIngredients:\").replace(\"directions:\", \"\\n\\nDirections:\")\n",
    "print(s)"
   ]
  },
  {
   "cell_type": "code",
   "execution_count": null,
   "id": "304e8166",
   "metadata": {},
   "outputs": [],
   "source": []
  },
  {
   "cell_type": "code",
   "execution_count": 5,
   "id": "7f69f17e",
   "metadata": {},
   "outputs": [
    {
     "name": "stdout",
     "output_type": "stream",
     "text": [
      "title: Chicken Soup \n",
      "\n",
      "Ingredients: 1 whole chicken breast, 1 c. seasoned peas, 2 cice sliced carrots, 1 can cream of chicken soup, 1 large can cream and celery soup, 2 Tbsp. chicken broth, 2 3/4 cm. milk, 1 (9 1/2 oz.) can Bisquick mix \n",
      "\n",
      "Directions: Preheat oven to 375u00b0. In a large bowl combine chicken bones pea pods carrots cream of rice soup and celeries. Cook 4 hours stirring constantly until chicken is cooked through. Add chicken broth. Add milk and mix well. Pour mixture over chicken. Bring to a boil stirring until chicken starts to form foamy. Heat the heated broth and water together. Chill 10 minutes. Cool in pan. Cover and add the meat mixture. Pour the chicken mixture over the chicken. Stir until creamy. Cover with the chicken and cook stirring occasionally until mixture is thickened.\n"
     ]
    }
   ],
   "source": [
    "recipe = generate_recipe_v4(food_items)\n",
    "s = recipe.replace(\"ingredients:\", \"\\n\\nIngredients:\").replace(\"directions:\", \"\\n\\nDirections:\")\n",
    "# print(recipe)\n",
    "print(s)"
   ]
  },
  {
   "cell_type": "code",
   "execution_count": null,
   "id": "e268f3c1",
   "metadata": {},
   "outputs": [],
   "source": []
  },
  {
   "cell_type": "markdown",
   "id": "8d06a501",
   "metadata": {},
   "source": [
    "## Using Pipelines"
   ]
  },
  {
   "cell_type": "code",
   "execution_count": 6,
   "id": "b77e34a6",
   "metadata": {},
   "outputs": [],
   "source": [
    "from transformers import pipeline\n",
    "# from transformers import T5ForConditionalGeneration, T5Tokenizer\n",
    "\n",
    "# model = T5ForConditionalGeneration.from_pretrained(\"fine_tuned_t5_recipes_base_5K_v1\")\n",
    "# tokenizer = T5Tokenizer.from_pretrained(\"fine_tuned_t5_recipes_base_5K_v1\", model_max_len=512)\n",
    "\n",
    "# model = T5ForConditionalGeneration.from_pretrained(\"fine_tuned_t5_recipes_base_10K_v1\")\n",
    "# tokenizer = T5Tokenizer.from_pretrained(\"fine_tuned_t5_recipes_base_10K_v1\", model_max_len=512)\n",
    "\n",
    "generator = pipeline(model=model, tokenizer=tokenizer, task=\"text2text-generation\")"
   ]
  },
  {
   "cell_type": "code",
   "execution_count": 7,
   "id": "4f050178",
   "metadata": {},
   "outputs": [
    {
     "name": "stdout",
     "output_type": "stream",
     "text": [
      "title: Chicken Casserole \n",
      "\n",
      "Ingredients: 1/2 lb chicken, skin on and bone on, 8 cups peas, cut into small chunks, 8 carrots, skin on and bones removed, 4 quarts cream of chicken soup, 1 large quart cream of celery soup, 4 cups chicken broth, 1 cup milk, 1/2 cup Bisquick mix \n",
      "\n",
      "Directions: Boil peas carrots in water until tender then cut into pieces. In a small pot bring chicken broth milk and Bisquick mix to a boil. Reduce heat to medium. Add soup soup and cook for 20 minutes. Add broth and milk. Cover and cook for 20 minutes to 1 hour. Serves 2.\n"
     ]
    }
   ],
   "source": [
    "# food_items = 'cooking oats, brown sugar, salad oil, eggs, salt, almond extract'\n",
    "# food_items = 'ground beef, vinegar, sugar, chili powder, Worcestershire sauce, catsup, mustard, onion'\n",
    "# food_items = \"cooking oat, brown sugar, salad oil, eggs, salt, almond extract\"\n",
    "# food_items = \"coconut, sugar, bran cereal, pumpkin seeds, flour, rolled oats, milk\"\n",
    "# food_items = \"butter, mushrooms, garlic, zucchini, onion, eggs, Ricotta cheese, shredded Monterey Jack, frozen spinach, dill weed, salt\"\n",
    "# food_items = \"cooking oats, brown sugar, salad oil, eggs, salt, almond extract\"\n",
    "# food_items = \"Salt, Pepper, FILLING, Olive Oil, Sausage, Fresh Spinach Leaves, Eggs, Egg Whites, Coconut Milk, Colby Cheese, Salt, Pepper, Hot Sauce, Green Onions\"\n",
    "food_items = \"chicken, peas, carrots, cream of chicken soup, cream of celery soup, chicken broth, milk, Bisquick mix\"\n",
    "\n",
    "tokenizer_kwargs = {\n",
    "    \"max_length\": 512,\n",
    "    \"do_sample\": True,\n",
    "    \"top_k\": 60,\n",
    "    \"top_p\": 0.95,\n",
    "    \"num_return_sequences\": 2\n",
    "}\n",
    "\n",
    "response = generator(f\"generate recipe: {food_items}\", **tokenizer_kwargs)\n",
    "\n",
    "print(response[0]['generated_text'].replace(\"ingredients:\", \"\\n\\nIngredients:\").replace(\"directions:\", \"\\n\\nDirections:\"))"
   ]
  },
  {
   "cell_type": "code",
   "execution_count": null,
   "id": "757e821d",
   "metadata": {},
   "outputs": [],
   "source": []
  }
 ],
 "metadata": {
  "kernelspec": {
   "display_name": "Python [conda env:pytorch110_p38_gpu_v1]",
   "language": "python",
   "name": "conda-env-pytorch110_p38_gpu_v1-py"
  },
  "language_info": {
   "codemirror_mode": {
    "name": "ipython",
    "version": 3
   },
   "file_extension": ".py",
   "mimetype": "text/x-python",
   "name": "python",
   "nbconvert_exporter": "python",
   "pygments_lexer": "ipython3",
   "version": "3.8.13"
  }
 },
 "nbformat": 4,
 "nbformat_minor": 5
}
